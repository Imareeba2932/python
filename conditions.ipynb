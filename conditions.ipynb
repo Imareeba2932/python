{
 "cells": [
  {
   "cell_type": "code",
   "execution_count": 1,
   "metadata": {},
   "outputs": [
    {
     "name": "stdout",
     "output_type": "stream",
     "text": [
      "A\n",
      "B\n"
     ]
    }
   ],
   "source": [
    "marks = int(input(\"Enter your marks: \"))\n",
    "if marks >= 90:\n",
    "    print('A+')\n",
    "if marks >= 75:\n",
    "    print('A')\n",
    "if marks >= 60:\n",
    "    print('B')\n",
    "if marks < 60:\n",
    "    print('Fail')"
   ]
  },
  {
   "cell_type": "code",
   "execution_count": 3,
   "metadata": {},
   "outputs": [
    {
     "name": "stdout",
     "output_type": "stream",
     "text": [
      "A\n"
     ]
    }
   ],
   "source": [
    "marks = int(input(\"Enter your marks: \"))\n",
    "if marks >= 90:\n",
    "    print('A+')\n",
    "elif marks >= 75:\n",
    "    print('A')\n",
    "elif marks >= 60:\n",
    "    print('B')\n",
    "elif marks < 60:\n",
    "    print('Fail')\n",
    "else:\n",
    "    print('Invalid Marks')"
   ]
  },
  {
   "cell_type": "code",
   "execution_count": 4,
   "metadata": {},
   "outputs": [
    {
     "name": "stdout",
     "output_type": "stream",
     "text": [
      "Elligible to vote\n"
     ]
    }
   ],
   "source": [
    "age = 23\n",
    "if age >=18:\n",
    "    print(\"Elligible to vote\")\n",
    "else:\n",
    "    print(\"Not elligible to vote\")"
   ]
  },
  {
   "cell_type": "markdown",
   "metadata": {},
   "source": [
    "- to check whether a number is positive or not\n",
    "- to check whether a number is even or odd\n",
    "- to check whether the two line segments are equal or not\n",
    "- to check whether a triangle is equilateral, iscoseles, or scalene. print the message accordingly\n",
    "- to check whether a character entered by user is a vowel or not\n",
    "- take a basic salary of an employee from user where TDA is 10% and HRA is 5%. Calculate the net salary of an employee\n",
    "- calculate an area of a circle\n",
    "- to check whether a number is a prime number\n",
    "- to check whwther a number is pallindrome\n",
    "- to check whether a number is an armstrong number"
   ]
  },
  {
   "cell_type": "code",
   "execution_count": null,
   "metadata": {},
   "outputs": [],
   "source": [
    "username = input(\"Enter your username: \")\n",
    "email = input(\"Enter your email: \")\n",
    "password = input(\"Enter your password: \")\n",
    "cpass = input(\"Enter your confirm password: \")\n",
    "if len(username)>5 and len(username)<=15:\n",
    "    if '@' in email and '.' in email:\n",
    "        if len(Password)>=5 and len(password)<=15:\n",
    "            if password == cpass:\n",
    "                print(\"Registered Successfully\")\n",
    "            else:\n",
    "                print(\"Password does not match\")\n",
    "        else:\n",
    "            print(\"Invalid password\")\n",
    "    else:\n",
    "        print(\"Invalid email\")\n",
    "else:  \n",
    "    print(\"Invalid username\")"
   ]
  }
 ],
 "metadata": {
  "kernelspec": {
   "display_name": "base",
   "language": "python",
   "name": "python3"
  },
  "language_info": {
   "codemirror_mode": {
    "name": "ipython",
    "version": 3
   },
   "file_extension": ".py",
   "mimetype": "text/x-python",
   "name": "python",
   "nbconvert_exporter": "python",
   "pygments_lexer": "ipython3",
   "version": "3.12.3"
  }
 },
 "nbformat": 4,
 "nbformat_minor": 2
}
