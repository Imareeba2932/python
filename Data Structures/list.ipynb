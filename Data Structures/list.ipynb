{
 "cells": [
  {
   "cell_type": "code",
   "execution_count": 2,
   "metadata": {},
   "outputs": [
    {
     "name": "stdout",
     "output_type": "stream",
     "text": [
      "['drive', 'google', 'watsap', 'insta', 'facebook', 'ola', 'swiggy', 'zoom']\n"
     ]
    }
   ],
   "source": [
    "apps = [\"drive\",\"google\",\"watsap\",\"insta\",\"facebook\",\"ola\",\"swiggy\",\"zoom\"]\n",
    "print(apps)"
   ]
  },
  {
   "cell_type": "code",
   "execution_count": 3,
   "metadata": {},
   "outputs": [
    {
     "name": "stdout",
     "output_type": "stream",
     "text": [
      "facebook\n",
      "facebook\n"
     ]
    }
   ],
   "source": [
    "print(apps[4])\n",
    "print(apps[-4])"
   ]
  },
  {
   "cell_type": "code",
   "execution_count": 4,
   "metadata": {},
   "outputs": [
    {
     "name": "stdout",
     "output_type": "stream",
     "text": [
      "['google', 'watsap', 'insta', 'facebook', 'ola']\n",
      "['google', 'insta', 'ola', 'zoom']\n",
      "['watsap', 'insta', 'facebook', 'ola', 'swiggy', 'zoom']\n",
      "['drive', 'google', 'watsap', 'insta', 'facebook']\n",
      "['drive', 'google', 'watsap', 'insta', 'facebook', 'ola', 'swiggy', 'zoom']\n"
     ]
    }
   ],
   "source": [
    "print(apps[1:6])\n",
    "print(apps[1:9:2])\n",
    "print(apps[2:])\n",
    "print(apps[:5])\n",
    "print(apps[:])"
   ]
  },
  {
   "cell_type": "markdown",
   "metadata": {},
   "source": [
    "List Methods \n",
    "- append - to add an element at the end of the list\n",
    "- insert - to add an element at any specific position in the list\n",
    "- pop - to delete an item using the index position of the element\n",
    "- remove - to delete an using its name\n",
    "- copy - to make a copy of the list\n",
    "- sort - to sort the items in any particular order\n",
    "- extend - to combine two list in on list\n",
    "- reverse - to reverse the order of the list\n",
    "- clear - to remove all the items of the list but not the list"
   ]
  },
  {
   "cell_type": "code",
   "execution_count": 5,
   "metadata": {},
   "outputs": [
    {
     "name": "stdout",
     "output_type": "stream",
     "text": [
      "['drive', 'google', 'watsap', 'insta', 'facebook', 'ola', 'swiggy', 'zoom', 'Snapchat']\n"
     ]
    }
   ],
   "source": [
    "apps.append(\"Snapchat\")\n",
    "print(apps)"
   ]
  },
  {
   "cell_type": "code",
   "execution_count": 7,
   "metadata": {},
   "outputs": [
    {
     "name": "stdout",
     "output_type": "stream",
     "text": [
      "['drive', 'google', 'watsap', 'tinder', 'insta', 'facebook', 'ola', 'swiggy', 'zoom', 'Snapchat']\n"
     ]
    }
   ],
   "source": [
    "apps.insert(3,\"tinder\")\n",
    "print(apps)"
   ]
  },
  {
   "cell_type": "code",
   "execution_count": 8,
   "metadata": {},
   "outputs": [
    {
     "name": "stdout",
     "output_type": "stream",
     "text": [
      "['drive', 'google', 'watsap', 'tinder', 'insta', 'ola', 'swiggy', 'zoom', 'Snapchat']\n"
     ]
    }
   ],
   "source": [
    "apps.pop(5)\n",
    "print(apps)"
   ]
  },
  {
   "cell_type": "code",
   "execution_count": 9,
   "metadata": {},
   "outputs": [
    {
     "name": "stdout",
     "output_type": "stream",
     "text": [
      "['drive', 'google', 'watsap', 'tinder', 'insta', 'swiggy', 'zoom', 'Snapchat']\n"
     ]
    }
   ],
   "source": [
    "apps.remove(\"ola\")\n",
    "print(apps)"
   ]
  },
  {
   "cell_type": "code",
   "execution_count": 10,
   "metadata": {},
   "outputs": [
    {
     "name": "stdout",
     "output_type": "stream",
     "text": [
      "['drive', 'google', 'watsap', 'tinder', 'insta', 'swiggy', 'zoom', 'Snapchat']\n"
     ]
    }
   ],
   "source": [
    "x = apps.copy()\n",
    "print(x)"
   ]
  },
  {
   "cell_type": "code",
   "execution_count": 11,
   "metadata": {},
   "outputs": [
    {
     "name": "stdout",
     "output_type": "stream",
     "text": [
      "[]\n"
     ]
    }
   ],
   "source": [
    "x.clear()\n",
    "print(x)"
   ]
  },
  {
   "cell_type": "code",
   "execution_count": 12,
   "metadata": {},
   "outputs": [
    {
     "name": "stdout",
     "output_type": "stream",
     "text": [
      "['Snapchat', 'drive', 'google', 'insta', 'swiggy', 'tinder', 'watsap', 'zoom']\n"
     ]
    }
   ],
   "source": [
    "apps.sort()\n",
    "print(apps)"
   ]
  },
  {
   "cell_type": "code",
   "execution_count": 13,
   "metadata": {},
   "outputs": [
    {
     "name": "stdout",
     "output_type": "stream",
     "text": [
      "['zoom', 'watsap', 'tinder', 'swiggy', 'insta', 'google', 'drive', 'Snapchat']\n"
     ]
    }
   ],
   "source": [
    "apps.reverse()\n",
    "print(apps)"
   ]
  },
  {
   "cell_type": "code",
   "execution_count": 14,
   "metadata": {},
   "outputs": [
    {
     "name": "stdout",
     "output_type": "stream",
     "text": [
      "['zoom', 'watsap', 'tinder', 'swiggy', 'insta', 'google', 'drive', 'Snapchat', 2, 5, 2, 5, 7]\n"
     ]
    }
   ],
   "source": [
    "apps2 = [2,5,2,5,7]\n",
    "apps.extend(apps2)\n",
    "print(apps)"
   ]
  },
  {
   "cell_type": "code",
   "execution_count": 15,
   "metadata": {},
   "outputs": [
    {
     "name": "stdout",
     "output_type": "stream",
     "text": [
      "[2, 5, 2, 5, 7, 'zoom', 'watsap', 'tinder', 'swiggy', 'insta', 'google', 'drive', 'Snapchat', 2, 5, 2, 5, 7]\n"
     ]
    }
   ],
   "source": [
    "apps2.extend(apps)\n",
    "print(apps2)"
   ]
  },
  {
   "cell_type": "code",
   "execution_count": null,
   "metadata": {},
   "outputs": [],
   "source": []
  }
 ],
 "metadata": {
  "kernelspec": {
   "display_name": "base",
   "language": "python",
   "name": "python3"
  },
  "language_info": {
   "codemirror_mode": {
    "name": "ipython",
    "version": 3
   },
   "file_extension": ".py",
   "mimetype": "text/x-python",
   "name": "python",
   "nbconvert_exporter": "python",
   "pygments_lexer": "ipython3",
   "version": "3.12.3"
  }
 },
 "nbformat": 4,
 "nbformat_minor": 2
}
